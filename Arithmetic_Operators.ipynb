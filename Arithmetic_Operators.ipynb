{
  "nbformat": 4,
  "nbformat_minor": 0,
  "metadata": {
    "colab": {
      "provenance": []
    },
    "kernelspec": {
      "name": "python3",
      "display_name": "Python 3"
    },
    "language_info": {
      "name": "python"
    }
  },
  "cells": [
    {
      "cell_type": "code",
      "execution_count": 2,
      "metadata": {
        "colab": {
          "base_uri": "https://localhost:8080/"
        },
        "id": "05RCSlwRxpvA",
        "outputId": "ac9e1b54-f69f-4860-8188-48a8d03e3d15"
      },
      "outputs": [
        {
          "output_type": "stream",
          "name": "stdout",
          "text": [
            "3\n",
            "2\n",
            "  \n",
            "5\n",
            "  \n",
            "1\n",
            "  \n",
            "6\n"
          ]
        }
      ],
      "source": [
        "if __name__ == '__main__':\n",
        "    a = int(input())\n",
        "    b = int(input())\n",
        "    print(\"  \") #whitespace\n",
        "    print(a+b)\n",
        "    print(\"  \") #whitespace\n",
        "    print(a-b)\n",
        "    print(\"  \") #whitespace\n",
        "    print(a*b)"
      ]
    },
    {
      "cell_type": "code",
      "source": [],
      "metadata": {
        "id": "PBDDjBLyxyJ0"
      },
      "execution_count": null,
      "outputs": []
    }
  ]
}