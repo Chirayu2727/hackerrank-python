{
 "cells": [
  {
   "cell_type": "code",
   "execution_count": 1,
   "id": "974df6b2",
   "metadata": {},
   "outputs": [
    {
     "name": "stdout",
     "output_type": "stream",
     "text": [
      "5\n",
      "Harry\n",
      "37.21\n",
      "Berry\n",
      "37.21\n",
      "Tina\n",
      "37.2\n",
      "Akriti\n",
      "41\n",
      "Harsh\n",
      "39\n",
      "Berry\n",
      "Harry\n"
     ]
    }
   ],
   "source": [
    "if __name__ == '__main__':\n",
    "    students = []\n",
    "    for _ in range(int(input())):\n",
    "        name = input()\n",
    "        score = float(input())\n",
    "        students.append([name,score]) \n",
    "    x = 99999\n",
    "    for i in range(len(students)):\n",
    "        if x > float(students[i][1]):\n",
    "            x = float(students[i][1])\n",
    "    y = 999999\n",
    "    for i in range(len(students)):\n",
    "        if float(students[i][1]) > float(x) and y > float(students[i][1]):\n",
    "            y = float(students[i][1])\n",
    "    runner = []\n",
    "    for i in range(len(students)):\n",
    "        if float(students[i][1]) == float(y):\n",
    "            runner.append(students[i][0])\n",
    "    runner = sorted(runner)\n",
    "\n",
    "    for i in range(len(runner)):\n",
    "        print(runner[i])\n",
    "\n"
   ]
  },
  {
   "cell_type": "code",
   "execution_count": null,
   "id": "c34722a3",
   "metadata": {},
   "outputs": [],
   "source": [
    "5\n",
    "Harry\n",
    "37.21\n",
    "Berry\n",
    "37.21\n",
    "Tina\n",
    "37.2\n",
    "Akriti\n",
    "41\n",
    "Harsh\n",
    "39"
   ]
  }
 ],
 "metadata": {
  "kernelspec": {
   "display_name": "Python 3 (ipykernel)",
   "language": "python",
   "name": "python3"
  },
  "language_info": {
   "codemirror_mode": {
    "name": "ipython",
    "version": 3
   },
   "file_extension": ".py",
   "mimetype": "text/x-python",
   "name": "python",
   "nbconvert_exporter": "python",
   "pygments_lexer": "ipython3",
   "version": "3.11.3"
  }
 },
 "nbformat": 4,
 "nbformat_minor": 5
}
