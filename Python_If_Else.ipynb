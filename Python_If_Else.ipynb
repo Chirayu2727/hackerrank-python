{
  "nbformat": 4,
  "nbformat_minor": 0,
  "metadata": {
    "colab": {
      "provenance": []
    },
    "kernelspec": {
      "name": "python3",
      "display_name": "Python 3"
    },
    "language_info": {
      "name": "python"
    }
  },
  "cells": [
    {
      "cell_type": "code",
      "execution_count": 2,
      "metadata": {
        "colab": {
          "base_uri": "https://localhost:8080/"
        },
        "id": "XS97UsYbjab5",
        "outputId": "9c9b06ca-5e0e-4ff1-9111-d360200f897b"
      },
      "outputs": [
        {
          "output_type": "stream",
          "name": "stdout",
          "text": [
            "24\n",
            "Not Weird\n"
          ]
        }
      ],
      "source": [
        "#!/bin/python3\n",
        "\n",
        "import math\n",
        "import os\n",
        "import random\n",
        "import re\n",
        "import sys\n",
        "\n",
        "\n",
        "\n",
        "if __name__ == '__main__':\n",
        "    n = int(input().strip())\n",
        "if (n%2!=0):\n",
        "    print(\"Weird\")\n",
        "if (n%2==0) and (2<n<5):\n",
        "    print(\"Not Weird\")\n",
        "if (n%2==0) and (6<n<20):\n",
        "    print(\"Weird\")\n",
        "if (n%2==0)and (n>20):\n",
        "    print(\"Not Weird\")"
      ]
    },
    {
      "cell_type": "code",
      "source": [],
      "metadata": {
        "id": "ztiof_SHjcG6"
      },
      "execution_count": null,
      "outputs": []
    }
  ]
}